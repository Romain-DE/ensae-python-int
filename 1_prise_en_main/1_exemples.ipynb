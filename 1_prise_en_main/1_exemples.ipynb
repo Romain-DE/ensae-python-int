{
 "cells": [
  {
   "cell_type": "markdown",
   "metadata": {},
   "source": [
    "Exemple de la TVA"
   ]
  },
  {
   "cell_type": "code",
   "execution_count": 2,
   "metadata": {},
   "outputs": [
    {
     "name": "stdout",
     "output_type": "stream",
     "text": [
      "Le prix HT est de 29.99 euros et le prix TTC est de 35.988 euros.\n",
      "Le prix HT est de 37.55 euros et le prix TTC est de 45.059999999999995 euros.\n"
     ]
    }
   ],
   "source": [
    "liste_de_prix_HT = [29.99, 37.55, 59, 12, 25]\n",
    "TVA = 20/100\n",
    "\n",
    "# 1er élément\n",
    "print(\"Le prix HT est de\",\n",
    "      liste_de_prix_HT[0],\n",
    "      \"euros et le prix TTC est de\",\n",
    "      liste_de_prix_HT[0]*(1+TVA), \"euros.\")\n",
    "\n",
    "# 2e élément\n",
    "print(\"Le prix HT est de\",\n",
    "      liste_de_prix_HT[1],\n",
    "      \"euros et le prix TTC est de\",\n",
    "      liste_de_prix_HT[1]*(1+TVA), \"euros.\")\n",
    "\n",
    "# ..."
   ]
  },
  {
   "cell_type": "markdown",
   "metadata": {},
   "source": [
    "Plusieurs opérations se répètent : la sélection d'une valeur dans la liste, le calcul de la TVA et la commande print. Voyons quelles fonctions on peut ajouter"
   ]
  },
  {
   "cell_type": "code",
   "execution_count": 3,
   "metadata": {},
   "outputs": [
    {
     "name": "stdout",
     "output_type": "stream",
     "text": [
      "Le prix HT est de 29.99 euros et le prix TTC est de 35.99 euros.\n",
      "Le prix HT est de 37.55 euros et le prix TTC est de 45.06 euros.\n"
     ]
    }
   ],
   "source": [
    "# Une première amélioration : le calcul de la TVA (avec arrondi)\n",
    "TVA = 20/100\n",
    "def add_TVA(prix: float) -> float:\n",
    "    return round(prix*(1 + TVA), 2)\n",
    "\n",
    "# 1er élément\n",
    "print(\"Le prix HT est de\",\n",
    "      liste_de_prix_HT[0],\n",
    "      \"euros et le prix TTC est de\",\n",
    "      add_TVA(liste_de_prix_HT[0]), \"euros.\")\n",
    "\n",
    "# 2e élément\n",
    "print(\"Le prix HT est de\",\n",
    "      liste_de_prix_HT[1],\n",
    "      \"euros et le prix TTC est de\",\n",
    "      add_TVA(liste_de_prix_HT[1]), \"euros.\")\n",
    "\n",
    "# ..."
   ]
  },
  {
   "cell_type": "code",
   "execution_count": 4,
   "metadata": {},
   "outputs": [
    {
     "name": "stdout",
     "output_type": "stream",
     "text": [
      "Le prix HT est de 29.99 euros et le prix TTC est de 35.99 euros.\n",
      "Le prix HT est de 37.55 euros et le prix TTC est de 45.06 euros.\n"
     ]
    }
   ],
   "source": [
    "# Intégrons maintenant le print dans une fonction\n",
    "def print_TVA_message(prix: float) -> None:\n",
    "  print(\"Le prix HT est de\", prix, \"euros et le prix TTC est de\",\n",
    "        add_TVA(prix), \"euros.\")\n",
    "\n",
    "# 1er élément\n",
    "print_TVA_message(liste_de_prix_HT[0])\n",
    "\n",
    "# 2e élément\n",
    "print_TVA_message(liste_de_prix_HT[1])\n",
    "\n",
    "# ...\n"
   ]
  },
  {
   "cell_type": "code",
   "execution_count": 5,
   "metadata": {},
   "outputs": [
    {
     "name": "stdout",
     "output_type": "stream",
     "text": [
      "Le prix HT est de 29.99 euros et le prix TTC est de 35.99 euros.\n",
      "Le prix HT est de 37.55 euros et le prix TTC est de 45.06 euros.\n",
      "Le prix HT est de 59 euros et le prix TTC est de 70.8 euros.\n",
      "Le prix HT est de 12 euros et le prix TTC est de 14.4 euros.\n",
      "Le prix HT est de 25 euros et le prix TTC est de 30.0 euros.\n"
     ]
    }
   ],
   "source": [
    "# Bonus : boucle for\n",
    "# Affichons le message pour chaque élément de la liste :\n",
    "for element in liste_de_prix_HT:\n",
    "  print_TVA_message(element)\n"
   ]
  },
  {
   "cell_type": "code",
   "execution_count": 6,
   "metadata": {},
   "outputs": [],
   "source": [
    "# Exercice de création de fonctions\n"
   ]
  },
  {
   "cell_type": "code",
   "execution_count": 7,
   "metadata": {},
   "outputs": [
    {
     "name": "stdout",
     "output_type": "stream",
     "text": [
      "le premier élément du tuple 25\n",
      "le deuxième élément du tuple 5.5\n",
      "======\n",
      "le premier élément du tuple 15\n",
      "le deuxième élément du tuple 5.5\n",
      "======\n",
      "le premier élément du tuple 200\n",
      "le deuxième élément du tuple 20\n",
      "======\n"
     ]
    }
   ],
   "source": [
    "# Nouveau scénario : on n'a plus une liste de prix, \n",
    "# mais une liste de tuples (prix, taux de TVA)\n",
    "# Faire le même exercice, en choisissant le taux de TVA appliqué (5.5 ou 20)\n",
    "# et en le précisant dans le print\n",
    "liste_prix_TVA = [(25, 5.5), (15, 5.5), (200, 20)]\n",
    "# 1. définir une nouvelle add_TVA\n",
    "# 2. Utiliser cette fonction dans une boucle for qui parcourt la liste ci-dessus\n",
    "for elt_tuple in liste_prix_TVA:\n",
    "    print(\"le premier élément du tuple\", elt_tuple[0])\n",
    "    print(\"le deuxième élément du tuple\", elt_tuple[1])\n",
    "    print(\"======\")"
   ]
  },
  {
   "cell_type": "code",
   "execution_count": 8,
   "metadata": {},
   "outputs": [
    {
     "name": "stdout",
     "output_type": "stream",
     "text": [
      "Le prix HT est de 25 euros et le prix TTC est de 26.38 euros.\n",
      "Le prix HT est de 25 euros et le prix TTC est de 26.38 euros.\n",
      "Le prix HT est de 15 euros et le prix TTC est de 15.82 euros.\n",
      "Le prix HT est de 200 euros et le prix TTC est de 240.0 euros.\n",
      "Le prix HT est de 25 euros et le prix TTC est de 26.38 euros.\n",
      "Le prix HT est de 25 euros et le prix TTC est de 26.38 euros.\n",
      "Le prix HT est de 15 euros et le prix TTC est de 15.82 euros.\n",
      "Le prix HT est de 200 euros et le prix TTC est de 240.0 euros.\n"
     ]
    }
   ],
   "source": [
    "liste_prix_TVA = [(25, 5.5), (15, 5.5), (200, 20)]\n",
    "\n",
    "def add_variable_TVA(prix: float, tva: float) -> float:\n",
    "    return round(prix*(1 + tva/100), 2)\n",
    "\n",
    "elt_test = (25, 5.5)\n",
    "\n",
    "print(\"Le prix HT est de\",\n",
    "      elt_test[0],\n",
    "      \"euros et le prix TTC est de\",\n",
    "      add_variable_TVA(elt_test[0], elt_test[1]), \"euros.\")\n",
    "\n",
    "\n",
    "for elt in liste_prix_TVA:\n",
    "    print(\"Le prix HT est de\",\n",
    "      elt[0],\n",
    "      \"euros et le prix TTC est de\",\n",
    "      add_variable_TVA(elt[0], elt[1]), \"euros.\")\n",
    "    \n",
    "\n",
    "\n",
    "def print_TVA_message(prix: float, tva: float) -> None:\n",
    "  print(\"Le prix HT est de\", prix, \"euros et le prix TTC est de\",\n",
    "        add_variable_TVA(prix, tva), \"euros.\")  \n",
    "\n",
    "\n",
    "print_TVA_message(elt_test[0], elt_test[1])\n",
    "\n",
    "for elt in liste_prix_TVA:\n",
    "   print_TVA_message(elt[0], elt[1])\n"
   ]
  },
  {
   "cell_type": "code",
   "execution_count": 9,
   "metadata": {},
   "outputs": [],
   "source": [
    "import math "
   ]
  },
  {
   "cell_type": "code",
   "execution_count": 10,
   "metadata": {},
   "outputs": [
    {
     "data": {
      "text/plain": [
       "'ython'"
      ]
     },
     "execution_count": 10,
     "metadata": {},
     "output_type": "execute_result"
    }
   ],
   "source": [
    "b = \"Python\"\n",
    "\n",
    "b[1:30]"
   ]
  },
  {
   "cell_type": "code",
   "execution_count": 11,
   "metadata": {},
   "outputs": [
    {
     "data": {
      "text/plain": [
       "'thon'"
      ]
     },
     "execution_count": 11,
     "metadata": {},
     "output_type": "execute_result"
    }
   ],
   "source": [
    "b[2:]"
   ]
  },
  {
   "cell_type": "code",
   "execution_count": 12,
   "metadata": {},
   "outputs": [
    {
     "data": {
      "text/plain": [
       "'Pyt'"
      ]
     },
     "execution_count": 12,
     "metadata": {},
     "output_type": "execute_result"
    }
   ],
   "source": [
    "b[:3]"
   ]
  },
  {
   "cell_type": "code",
   "execution_count": 13,
   "metadata": {},
   "outputs": [
    {
     "name": "stdout",
     "output_type": "stream",
     "text": [
      "test\n",
      "None\n",
      "test\n"
     ]
    }
   ],
   "source": [
    "def fct_test() -> None :\n",
    "    print(\"test\")\n",
    "\n",
    "def fct_test_2() -> str:\n",
    "    return \"test\"\n",
    "\n",
    "a = fct_test()\n",
    "print(a)\n",
    "b = fct_test_2()\n",
    "print(b)"
   ]
  },
  {
   "cell_type": "code",
   "execution_count": 14,
   "metadata": {},
   "outputs": [],
   "source": [
    "def est_pair(input: int) -> bool :\n",
    "    if input%2 == 0:\n",
    "        return True\n",
    "    else:\n",
    "        return False\n",
    "    \n",
    "est_pair(3)\n",
    "\n",
    "def est_pair_concis(input:int) -> bool:\n",
    "    return input%2 == 0\n",
    "\n",
    "\n",
    "\n"
   ]
  },
  {
   "cell_type": "code",
   "execution_count": 15,
   "metadata": {},
   "outputs": [
    {
     "name": "stdout",
     "output_type": "stream",
     "text": [
      "10\n",
      "11\n",
      "12\n",
      "13\n",
      "14\n",
      "15\n",
      "16\n",
      "17\n",
      "18\n",
      "19\n"
     ]
    }
   ],
   "source": [
    "for i in range(10, 20):\n",
    "    print(i)"
   ]
  },
  {
   "cell_type": "code",
   "execution_count": 16,
   "metadata": {},
   "outputs": [
    {
     "name": "stdout",
     "output_type": "stream",
     "text": [
      "inf à 3\n"
     ]
    }
   ],
   "source": [
    "a = 5\n",
    "\n",
    "condition = a == 3\n",
    "\n",
    "if (a == 3):\n",
    "    print(\"sup à 3\")\n",
    "else :\n",
    "    print(\"inf à 3\")"
   ]
  }
 ],
 "metadata": {
  "kernelspec": {
   "display_name": "python_int_env",
   "language": "python",
   "name": "python3"
  },
  "language_info": {
   "codemirror_mode": {
    "name": "ipython",
    "version": 3
   },
   "file_extension": ".py",
   "mimetype": "text/x-python",
   "name": "python",
   "nbconvert_exporter": "python",
   "pygments_lexer": "ipython3",
   "version": "3.13.2"
  }
 },
 "nbformat": 4,
 "nbformat_minor": 2
}
