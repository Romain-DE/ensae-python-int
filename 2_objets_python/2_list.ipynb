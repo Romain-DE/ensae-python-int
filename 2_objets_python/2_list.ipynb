{
 "cells": [
  {
   "cell_type": "markdown",
   "metadata": {},
   "source": [
    "Exercices"
   ]
  },
  {
   "cell_type": "code",
   "execution_count": 1,
   "metadata": {},
   "outputs": [],
   "source": [
    "## Créer une liste manuellement\n",
    "# Créer une liste de strings avec les noms des différents types que vous connaissez en python\n",
    "\n",
    "list_types = ...\n",
    "\n"
   ]
  },
  {
   "cell_type": "code",
   "execution_count": 2,
   "metadata": {},
   "outputs": [
    {
     "data": {
      "text/plain": [
       "[3, 9, 15]"
      ]
     },
     "execution_count": 2,
     "metadata": {},
     "output_type": "execute_result"
    }
   ],
   "source": [
    "## Créer une liste avec une for comprehension\n",
    "# Utiliser la fonction range() et créer une liste contenant les 7 premiers entiers (0 est le premier entier)\n",
    "# 3 méthodes\n",
    "list_for = []\n",
    "for i in range(7):\n",
    "    list_for.append(i)\n",
    "\n",
    "list_for = [i for i in range(7)]\n",
    "list_for = list(range(7))\n",
    "\n",
    "\n",
    "# Ne garder que les éléments impairs de cette liste\n",
    "list_for_uneven = [i for i in list_for if i%2 != 0]\n",
    "# Multiplier par 3 chacun des éléments de la liste des impairs\n",
    "[3 * elt for elt in list_for_uneven]"
   ]
  },
  {
   "cell_type": "code",
   "execution_count": 3,
   "metadata": {},
   "outputs": [
    {
     "data": {
      "text/plain": [
       "['coucou', 'bonjour', 'hola', 'salut', 'hé', 'hello']"
      ]
     },
     "execution_count": 3,
     "metadata": {},
     "output_type": "execute_result"
    }
   ],
   "source": [
    "## Modifier une liste à l'aide d'une for comprehension\n",
    "# à l'aide de la méthode .strip(), supprimer les espaces inutiles dans les strings de la liste suivante\n",
    "draft_list = [\"coucou  \", \"bonjour\", \"hola\", \"   salut\", \" hé  \", \"hello      \"]\n",
    "clean_list = [x.strip() for x in draft_list]\n",
    "clean_list\n",
    "# En combien de lignes tient votre résultat ? "
   ]
  },
  {
   "cell_type": "code",
   "execution_count": 4,
   "metadata": {},
   "outputs": [
    {
     "data": {
      "text/plain": [
       "['coucou', 'salut']"
      ]
     },
     "execution_count": 4,
     "metadata": {},
     "output_type": "execute_result"
    }
   ],
   "source": [
    "## Parcourir les éléments d'une liste et les filtrer\n",
    "# à l'aide de la méthode .startswith(), ne garder que les éléments qui commencent par un \"s\" ou un \"c\"\n",
    "clean_list = [\"coucou\", \"bonjour\", \"hola\", \"salut\"]\n",
    "s_c_list = [x for x in clean_list if x.startswith((\"s\", \"c\"))]\n",
    "s_c_list"
   ]
  },
  {
   "cell_type": "code",
   "execution_count": 5,
   "metadata": {},
   "outputs": [
    {
     "data": {
      "text/plain": [
       "['Sacha', 'Valérie', 'Yaël']"
      ]
     },
     "execution_count": 5,
     "metadata": {},
     "output_type": "execute_result"
    }
   ],
   "source": [
    "# Selectionner une tranche de liste\n",
    "# créer une sous-liste qui ne comprend que les éléments d'index 3 à 5 de la liste suivante\n",
    "prenoms_list = [\"Andréa\", \"Camille\", \"Dominique\", \"Sacha\", \"Valérie\", \"Yaël\"]\n",
    "sublist = prenoms_list[3:6]\n",
    "sublist"
   ]
  },
  {
   "cell_type": "code",
   "execution_count": 6,
   "metadata": {},
   "outputs": [
    {
     "data": {
      "text/plain": [
       "['Yaël', 'Valérie', 'Sacha', 'Dominique', 'Camille', 'Andréa']"
      ]
     },
     "execution_count": 6,
     "metadata": {},
     "output_type": "execute_result"
    }
   ],
   "source": [
    "## Trier la liste par ordre anti-alphabétique, à l'aide de la fonction sorted()\n",
    "reversed_prenoms_list = sorted(prenoms_list, reverse= True)\n",
    "reversed_prenoms_list"
   ]
  }
 ],
 "metadata": {
  "kernelspec": {
   "display_name": "python_int_env",
   "language": "python",
   "name": "python3"
  },
  "language_info": {
   "codemirror_mode": {
    "name": "ipython",
    "version": 3
   },
   "file_extension": ".py",
   "mimetype": "text/x-python",
   "name": "python",
   "nbconvert_exporter": "python",
   "pygments_lexer": "ipython3",
   "version": "3.11.6"
  }
 },
 "nbformat": 4,
 "nbformat_minor": 2
}
