{
 "cells": [
  {
   "cell_type": "markdown",
   "metadata": {},
   "source": [
    "Exercices"
   ]
  },
  {
   "cell_type": "code",
   "execution_count": 1,
   "metadata": {},
   "outputs": [],
   "source": [
    "## Créer une liste manuellement\n",
    "# Créer une liste de strings avec les noms des différents types que vous connaissez en python\n",
    "\n",
    "list_types = ...\n",
    "\n"
   ]
  },
  {
   "cell_type": "code",
   "execution_count": 1,
   "metadata": {},
   "outputs": [
    {
     "data": {
      "text/plain": [
       "[0, 1, 2, 3, 4, 5, 6]"
      ]
     },
     "execution_count": 1,
     "metadata": {},
     "output_type": "execute_result"
    }
   ],
   "source": [
    "## Créer une liste avec une for comprehension\n",
    "# Utiliser la fonction range() et créer une liste contenant les 7 premiers entiers (0 est le premier entier)\n",
    "list_for = ...\n",
    "\n",
    "# Ne garder que les éléments impairs de cette liste\n",
    "\n",
    "# Multiplier par 3 chacun des éléments de la liste des impairs"
   ]
  },
  {
   "cell_type": "code",
   "execution_count": null,
   "metadata": {},
   "outputs": [],
   "source": [
    "## Modifier une liste à l'aide d'une for comprehension\n",
    "# à l'aide de la méthode .strip(), supprimer les espaces inutiles dans les strings de la liste suivante\n",
    "draft_list = [\"coucou  \", \"bonjour\", \"hola\", \"   salut\", \" hé  \", \"hello      \"]\n",
    "clean_list = ...\n",
    "# En combien de lignes tient votre résultat ? "
   ]
  },
  {
   "cell_type": "code",
   "execution_count": null,
   "metadata": {},
   "outputs": [],
   "source": [
    "## Parcourir les éléments d'une liste et les filtrer\n",
    "# à l'aide de la méthode .startsWith(), ne garder que les éléments qui commencent par un \"s\" ou un \"c\"\n",
    "s_c_list = ..."
   ]
  },
  {
   "cell_type": "code",
   "execution_count": 1,
   "metadata": {},
   "outputs": [],
   "source": [
    "# Selectionner une tranche de liste\n",
    "# créer une sous-liste qui ne comprend que les éléments d'index 3 à 5 de la liste suivante\n",
    "prenoms_list = [\"Andréa\", \"Camille\", \"Dominique\", \"Sacha\", \"Valérie\", \"Yaël\"]\n",
    "sublist = ..."
   ]
  },
  {
   "cell_type": "code",
   "execution_count": 5,
   "metadata": {},
   "outputs": [
    {
     "name": "stdout",
     "output_type": "stream",
     "text": [
      "['Yaël', 'Valérie', 'Sacha', 'Dominique', 'Camille', 'Andréa']\n"
     ]
    }
   ],
   "source": [
    "## Trier la liste par ordre anti-alphabétique, à l'aide de la fonction sorted()\n",
    "reversed_prenoms_list = ..."
   ]
  },
  {
   "cell_type": "code",
   "execution_count": null,
   "metadata": {},
   "outputs": [],
   "source": []
  }
 ],
 "metadata": {
  "kernelspec": {
   "display_name": "python_int_env",
   "language": "python",
   "name": "python3"
  },
  "language_info": {
   "codemirror_mode": {
    "name": "ipython",
    "version": 3
   },
   "file_extension": ".py",
   "mimetype": "text/x-python",
   "name": "python",
   "nbconvert_exporter": "python",
   "pygments_lexer": "ipython3",
   "version": "3.11.6"
  }
 },
 "nbformat": 4,
 "nbformat_minor": 2
}
