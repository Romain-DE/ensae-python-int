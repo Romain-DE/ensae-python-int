{
 "cells": [
  {
   "cell_type": "markdown",
   "metadata": {},
   "source": [
    "Rappels"
   ]
  },
  {
   "cell_type": "code",
   "execution_count": 2,
   "metadata": {},
   "outputs": [
    {
     "data": {
      "text/plain": [
       "64"
      ]
     },
     "execution_count": 2,
     "metadata": {},
     "output_type": "execute_result"
    }
   ],
   "source": [
    "# Fonction lambda\n",
    "lambda_square = lambda x: x**2\n",
    "lambda_square(8)"
   ]
  },
  {
   "cell_type": "code",
   "execution_count": 5,
   "metadata": {},
   "outputs": [
    {
     "data": {
      "text/plain": [
       "0.6"
      ]
     },
     "execution_count": 5,
     "metadata": {},
     "output_type": "execute_result"
    }
   ],
   "source": [
    "# args et kwargs\n",
    "# Dans l'exemple suivant, x et y sont dits \"positional arguments\" et z \"keyword argument\"\n",
    "def g(x, y, z=1): \n",
    "    return (x + y) / z\n",
    "\n",
    "# Les positional args sont paquetés dans un tuple, et les kwargs dans un dict. \n",
    "# Il est donc possible d'apppeler g de la façon suivante :\n",
    "pos_args = (1, 2)\n",
    "kwargs = {\"z\" : 5}\n",
    "g(*pos_args, **kwargs)\n",
    "# où * permet de déployer un tuple\n",
    "# et ** un dict"
   ]
  },
  {
   "cell_type": "code",
   "execution_count": null,
   "metadata": {},
   "outputs": [],
   "source": [
    "# Bonus : et au fait, dans quel répertoire on se trouve actuellement? \n",
    "# cwd : Current Working Directory \n",
    "import os\n",
    "cwd = os.getcwd()\n",
    "print(\"repertoire actuel :\", cwd)\n",
    "\n",
    "# qu'y a-t-il d'autre dans ce répertoire?  \n",
    "# listdir : list directory\n",
    "print(\"autres fichiers présents :\", os.listdir(\".\"))\n",
    "\n",
    "# et dans le répertoire parent : \n",
    "print(\"autres fichiers présents dans le répertoire parent :\", os.listdir(\"..\"))"
   ]
  },
  {
   "cell_type": "markdown",
   "metadata": {},
   "source": [
    "Exercices"
   ]
  },
  {
   "cell_type": "code",
   "execution_count": 1,
   "metadata": {},
   "outputs": [],
   "source": [
    "# Ecrire une fonction qui prend en input une string, et qui renvoie cette string en majuscules\n",
    "def capitalize(x: str) -> str:\n",
    "    return x.upper()"
   ]
  },
  {
   "cell_type": "code",
   "execution_count": null,
   "metadata": {},
   "outputs": [],
   "source": [
    "# Ecrire la même fonction que précédemment, mais avec la syntaxe lambda\n",
    "cap_lambda = lambda x : x.upper()"
   ]
  },
  {
   "cell_type": "code",
   "execution_count": 1,
   "metadata": {},
   "outputs": [],
   "source": [
    "# Ecrire une fonction qui prend en entrée un nombre d'arguments variable, et les affiche\n",
    "# par ex : \n",
    "def print_args_with_comments(*x):\n",
    "    for i, j in enumerate(x):\n",
    "        print(f\"l'argument {i} est le suivant {j}\") #str interpolation\n",
    "        print(\"l'argument\", i, \"est le suivant\", j)\n",
    "\n",
    "# print_args_with_comments(1) doit renvoyer\n",
    "# >>> l'argument $0 est le suivant : 1\n",
    "\n",
    "# et print_args_with_comments(4, 5) :\n",
    "# >>> l'argument $0 est le suivant : 4\n",
    "# >>> l'argument $1 est le suivant : 5\n",
    "\n"
   ]
  },
  {
   "cell_type": "code",
   "execution_count": 2,
   "metadata": {},
   "outputs": [
    {
     "name": "stdout",
     "output_type": "stream",
     "text": [
      "l'argument 0 est le suivant 4\n",
      "l'argument 1 est le suivant 5\n"
     ]
    }
   ],
   "source": [
    "print_args_with_comments(4, 5)"
   ]
  },
  {
   "cell_type": "code",
   "execution_count": null,
   "metadata": {},
   "outputs": [],
   "source": []
  }
 ],
 "metadata": {
  "kernelspec": {
   "display_name": "python_int_env",
   "language": "python",
   "name": "python3"
  },
  "language_info": {
   "codemirror_mode": {
    "name": "ipython",
    "version": 3
   },
   "file_extension": ".py",
   "mimetype": "text/x-python",
   "name": "python",
   "nbconvert_exporter": "python",
   "pygments_lexer": "ipython3",
   "version": "3.11.6"
  }
 },
 "nbformat": 4,
 "nbformat_minor": 2
}
