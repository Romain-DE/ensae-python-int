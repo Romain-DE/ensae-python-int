{
 "cells": [
  {
   "cell_type": "markdown",
   "metadata": {},
   "source": [
    "# Rappels"
   ]
  },
  {
   "cell_type": "code",
   "execution_count": 1,
   "metadata": {},
   "outputs": [
    {
     "data": {
      "text/plain": [
       "datetime.datetime(2025, 3, 27, 14, 30, 40, 613334)"
      ]
     },
     "execution_count": 1,
     "metadata": {},
     "output_type": "execute_result"
    }
   ],
   "source": [
    "from datetime import datetime\n",
    "\n",
    "now = datetime.now()\n",
    "now"
   ]
  },
  {
   "cell_type": "code",
   "execution_count": 2,
   "metadata": {},
   "outputs": [
    {
     "data": {
      "text/plain": [
       "(2025, 3, 27)"
      ]
     },
     "execution_count": 2,
     "metadata": {},
     "output_type": "execute_result"
    }
   ],
   "source": [
    "now.year, now.month, now.day"
   ]
  },
  {
   "cell_type": "code",
   "execution_count": 3,
   "metadata": {},
   "outputs": [],
   "source": [
    "# une date au format YYYY-MM-dd'T'HH:mm:SS (format ISO 8601)\n",
    "input_str = '2011-01-03T00:00:00'\n",
    "input_datetime = datetime.fromisoformat(input_str)"
   ]
  },
  {
   "cell_type": "code",
   "execution_count": 4,
   "metadata": {},
   "outputs": [
    {
     "data": {
      "text/plain": [
       "datetime.datetime(2012, 12, 24, 8, 30)"
      ]
     },
     "execution_count": 4,
     "metadata": {},
     "output_type": "execute_result"
    }
   ],
   "source": [
    "# la méthode .strptime() (pour STRingParsingTIME) de l'objet datetime\n",
    "# format de date alternatif\n",
    "input_alt_str = \"2012-24-12 08:30\"\n",
    "datetime.strptime(input_alt_str, \"%Y-%d-%m %H:%M\")"
   ]
  },
  {
   "cell_type": "code",
   "execution_count": 5,
   "metadata": {},
   "outputs": [
    {
     "data": {
      "text/plain": [
       "'03/01/2011'"
      ]
     },
     "execution_count": 5,
     "metadata": {},
     "output_type": "execute_result"
    }
   ],
   "source": [
    "# la méthode .strftime() (pour STRingFormattingTIME)\n",
    "input_datetime.strftime(\"%d/%m/%Y\")"
   ]
  },
  {
   "cell_type": "code",
   "execution_count": 6,
   "metadata": {},
   "outputs": [
    {
     "data": {
      "text/plain": [
       "datetime.timedelta(days=1)"
      ]
     },
     "execution_count": 6,
     "metadata": {},
     "output_type": "execute_result"
    }
   ],
   "source": [
    "# TimeDelta\n",
    "\n",
    "delta = datetime(2023, 12, 15) - datetime(2023, 12, 14)\n",
    "delta"
   ]
  },
  {
   "cell_type": "code",
   "execution_count": 7,
   "metadata": {},
   "outputs": [
    {
     "name": "stdout",
     "output_type": "stream",
     "text": [
      "number of days in delta :  1\n",
      "number of seconds in delta :  0\n"
     ]
    }
   ],
   "source": [
    "print(\"number of days in delta : \", delta.days)\n",
    "# Attention, l'attribut \"seconds\" n'est pas la conversion en secondes de le l'attribut jours. Ce sont les secondes en plus des jours\n",
    "print(\"number of seconds in delta : \", delta.seconds)"
   ]
  },
  {
   "cell_type": "code",
   "execution_count": 8,
   "metadata": {},
   "outputs": [
    {
     "data": {
      "text/plain": [
       "datetime.datetime(2023, 12, 25, 0, 0)"
      ]
     },
     "execution_count": 8,
     "metadata": {},
     "output_type": "execute_result"
    }
   ],
   "source": [
    "from datetime import timedelta\n",
    "new_date = datetime(2023,12,24) + timedelta(1)\n",
    "new_date"
   ]
  },
  {
   "cell_type": "markdown",
   "metadata": {},
   "source": [
    "Dateutil et le parser intelligent"
   ]
  },
  {
   "cell_type": "code",
   "execution_count": 9,
   "metadata": {},
   "outputs": [
    {
     "data": {
      "text/plain": [
       "datetime.datetime(2023, 12, 7, 0, 0)"
      ]
     },
     "execution_count": 9,
     "metadata": {},
     "output_type": "execute_result"
    }
   ],
   "source": [
    "from dateutil.parser import parse\n",
    "parse(\"2023-12-07\")"
   ]
  },
  {
   "cell_type": "code",
   "execution_count": 10,
   "metadata": {},
   "outputs": [
    {
     "data": {
      "text/plain": [
       "datetime.datetime(1957, 1, 31, 20, 52)"
      ]
     },
     "execution_count": 10,
     "metadata": {},
     "output_type": "execute_result"
    }
   ],
   "source": [
    "parse(\"31 Jan, 1957 8:52 PM\")"
   ]
  },
  {
   "cell_type": "markdown",
   "metadata": {},
   "source": [
    "# Exercices"
   ]
  },
  {
   "cell_type": "code",
   "execution_count": 11,
   "metadata": {},
   "outputs": [
    {
     "data": {
      "text/plain": [
       "datetime.datetime(2023, 12, 9, 17, 28)"
      ]
     },
     "execution_count": 11,
     "metadata": {},
     "output_type": "execute_result"
    }
   ],
   "source": [
    "# datetime : Créer un objet datetime correspondant à la date suivante :\n",
    "# samedi 9 décembre 2023 à 17h28\n",
    "from datetime import datetime\n",
    "datetime(2023, 12, 9, 17, 28)\n"
   ]
  },
  {
   "cell_type": "code",
   "execution_count": 12,
   "metadata": {},
   "outputs": [
    {
     "data": {
      "text/plain": [
       "'03/01/2011'"
      ]
     },
     "execution_count": 12,
     "metadata": {},
     "output_type": "execute_result"
    }
   ],
   "source": [
    "# Changer les formats\n",
    "# Passer du format YYYY-MM-dd'T'HH:mm:SS à dd/MM/YY\n",
    "input_str = '2011-01-03T00:00:00'\n",
    "input_datetime = datetime.fromisoformat(input_str)\n",
    "input_datetime.strftime(\"%d/%m/%Y\")\n"
   ]
  },
  {
   "cell_type": "code",
   "execution_count": 13,
   "metadata": {},
   "outputs": [
    {
     "name": "stdout",
     "output_type": "stream",
     "text": [
      "[datetime.datetime(2023, 7, 26, 0, 0), datetime.datetime(2023, 8, 16, 0, 0), datetime.datetime(2023, 10, 19, 0, 0), datetime.datetime(2023, 11, 5, 0, 0)]\n"
     ]
    }
   ],
   "source": [
    "# Exercice bonus : \n",
    "# Transformer cette liste de strings en une liste de datetime\n",
    "list_date_str = [\"26/07/2023\", \"16/08/2023\", \"19/10/2023\", \"05/11/2023\"]\n",
    "\n",
    "new_format_list = []\n",
    "for date_str in list_date_str:\n",
    "    dt = datetime.strptime(date_str, \"%d/%m/%Y\")\n",
    "    new_format_list.append(dt)\n",
    "\n",
    "new_format_list\n",
    "\n",
    "comprehension_list = [datetime.strptime(date_str, \"%d/%m/%Y\") for date_str in list_date_str]\n",
    "print(comprehension_list)"
   ]
  },
  {
   "cell_type": "code",
   "execution_count": 14,
   "metadata": {},
   "outputs": [],
   "source": [
    "# Ajouter 45 minutes à chacun des éléments de cette liste de datetimes\n",
    "from datetime import timedelta\n",
    "\n",
    "list_plus_45 = []\n",
    "\n",
    "for elt in comprehension_list:\n",
    "    dt = elt + timedelta(minutes=45)\n",
    "    list_plus_45.append(dt)\n",
    "\n",
    "list_plus_45\n",
    "\n",
    "comprehension_list = [dt + timedelta(minutes=45) for dt in comprehension_list]"
   ]
  },
  {
   "cell_type": "code",
   "execution_count": null,
   "metadata": {},
   "outputs": [],
   "source": []
  }
 ],
 "metadata": {
  "kernelspec": {
   "display_name": "python_int_env",
   "language": "python",
   "name": "python3"
  },
  "language_info": {
   "codemirror_mode": {
    "name": "ipython",
    "version": 3
   },
   "file_extension": ".py",
   "mimetype": "text/x-python",
   "name": "python",
   "nbconvert_exporter": "python",
   "pygments_lexer": "ipython3",
   "version": "3.13.2"
  }
 },
 "nbformat": 4,
 "nbformat_minor": 2
}
