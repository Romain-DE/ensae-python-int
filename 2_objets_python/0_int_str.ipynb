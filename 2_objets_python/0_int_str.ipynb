{
 "cells": [
  {
   "cell_type": "markdown",
   "metadata": {},
   "source": [
    "Exercices"
   ]
  },
  {
   "cell_type": "code",
   "execution_count": null,
   "metadata": {},
   "outputs": [],
   "source": [
    "# transformer en string l'entier a\n",
    "a = 42\n",
    "a_str = ..."
   ]
  },
  {
   "cell_type": "code",
   "execution_count": 2,
   "metadata": {},
   "outputs": [
    {
     "name": "stdout",
     "output_type": "stream",
     "text": [
      "1 est un nombre pair ? -> False\n",
      "2 est un nombre pair ? -> True\n",
      "3 est un nombre pair ? -> False\n"
     ]
    }
   ],
   "source": [
    "# Compléter la fonction suivante qui vérifie la parité des entiers qu'elle reçoit\n",
    "def is_even(x: int) -> bool:\n",
    "    return ...\n",
    "\n",
    "list_of_ints = [1, 2, 3, 4, 5]\n",
    "for elt in list_of_ints:\n",
    "    print(elt, \"est un nombre pair ? ->\", is_even(elt))"
   ]
  },
  {
   "cell_type": "code",
   "execution_count": 1,
   "metadata": {},
   "outputs": [
    {
     "name": "stdout",
     "output_type": "stream",
     "text": [
      "['ANDRÉA', 'CAMILLE', 'DOMINIQUE', 'SACHA', 'VALÉRIE', 'YAËL']\n"
     ]
    }
   ],
   "source": [
    "# à l'aide de la méthode .upper(), transformer en majuscules les lettres contenues dans les strings de la liste suivante :\n",
    "prenoms_list = [\"Andréa\", \"Camille\", \"Dominique\", \"Sacha\", \"Valérie\", \"Yaël\"]\n",
    "cap_list = ..."
   ]
  },
  {
   "cell_type": "code",
   "execution_count": null,
   "metadata": {},
   "outputs": [],
   "source": [
    "# Quel est le type des éléments de la liste suivante ?\n",
    "import math\n",
    "elts = [1, 1.2, math.pi, \"hello\", \"\", [1, 5]]"
   ]
  },
  {
   "cell_type": "code",
   "execution_count": null,
   "metadata": {},
   "outputs": [],
   "source": []
  }
 ],
 "metadata": {
  "kernelspec": {
   "display_name": "python_int_env",
   "language": "python",
   "name": "python3"
  },
  "language_info": {
   "codemirror_mode": {
    "name": "ipython",
    "version": 3
   },
   "file_extension": ".py",
   "mimetype": "text/x-python",
   "name": "python",
   "nbconvert_exporter": "python",
   "pygments_lexer": "ipython3",
   "version": "3.11.6"
  }
 },
 "nbformat": 4,
 "nbformat_minor": 2
}
