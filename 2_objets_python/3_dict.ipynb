{
 "cells": [
  {
   "cell_type": "markdown",
   "metadata": {},
   "source": [
    "Exercices"
   ]
  },
  {
   "cell_type": "code",
   "execution_count": 1,
   "metadata": {},
   "outputs": [],
   "source": [
    "## Créer un dict manuellement\n",
    "# les clés sont les prénoms des élèves de cette formation, et les valeurs sont l'entreprise qui les emploie\n",
    "\n",
    "\n",
    "\n"
   ]
  },
  {
   "cell_type": "code",
   "execution_count": 2,
   "metadata": {},
   "outputs": [
    {
     "data": {
      "text/plain": [
       "{'coucou': 6, 'bonjour': 7, 'hola': 4, 'salut': 5, 'hé': 2, 'hello': 5}"
      ]
     },
     "execution_count": 2,
     "metadata": {},
     "output_type": "execute_result"
    }
   ],
   "source": [
    "## Créer un dict avec une for comprehension à partir d'une liste\n",
    "# le dictionnaire doit contenir comme clé les éléments de la liste suivante, et comme valeur la longueur de la string associée\n",
    "intro_list = [\"coucou\", \"bonjour\", \"hola\", \"salut\", \"hé\", \"hello\"]\n",
    "intro_dict = {name:len(name) for name in intro_list}\n",
    "intro_dict"
   ]
  },
  {
   "cell_type": "code",
   "execution_count": 3,
   "metadata": {},
   "outputs": [
    {
     "data": {
      "text/plain": [
       "{'coucou': 6, 'hola': 4, 'hé': 2}"
      ]
     },
     "execution_count": 3,
     "metadata": {},
     "output_type": "execute_result"
    }
   ],
   "source": [
    "## Modifier un dict à l'aide d'une for comprehension\n",
    "# Modifier le dictionnaire obtenu précédemment pour ne garder que les clé dont la valeur est un nombre pair\n",
    "intro_dict = {name:intro_dict[name] for name in intro_dict if intro_dict[name]%2 == 0}\n",
    "intro_dict"
   ]
  },
  {
   "cell_type": "code",
   "execution_count": 5,
   "metadata": {},
   "outputs": [
    {
     "name": "stdout",
     "output_type": "stream",
     "text": [
      "###Les clés###\n",
      "coucou\n",
      "bonjour\n",
      "hola\n",
      "salut\n",
      "hé\n",
      "hello\n",
      "###Les valeurs###\n",
      "6\n",
      "7\n",
      "4\n",
      "5\n",
      "2\n",
      "5\n",
      "###Les clés et les valeurs###\n",
      "coucou 6\n",
      "bonjour 7\n",
      "hola 4\n",
      "salut 5\n",
      "hé 2\n",
      "hello 5\n"
     ]
    }
   ],
   "source": [
    "# Parcourir les éléments d'un dict\n",
    "# les clés\n",
    "print(\"###Les clés###\")\n",
    "for key in intro_dict.keys():\n",
    "    print(key)\n",
    "\n",
    "# les valeurs\n",
    "print(\"###Les valeurs###\")\n",
    "for value in intro_dict.values():\n",
    "    print(value)\n",
    "\n",
    "# les deux items en même temps\n",
    "print(\"###Les clés et les valeurs###\")\n",
    "for key, value in intro_dict.items():\n",
    "    print(key, value)"
   ]
  },
  {
   "cell_type": "code",
   "execution_count": 7,
   "metadata": {},
   "outputs": [],
   "source": [
    "## Accéder à une valeur\n",
    "# récupérer la valeur associée à la clé \"citron\" dans le dictionnaire suivant :\n",
    "agrumes = {\n",
    "    \"citron\": 4,\n",
    "    \"orange\": 5\n",
    "}\n",
    "\n",
    "# récupérer la valeur associée à la clé \"citron\" dans le dictionnaire suivant :\n",
    "fruits = {\n",
    "    \"agrumes\" : {\n",
    "        \"citron\": 4,\n",
    "        \"orange\": 5\n",
    "    },\n",
    "    \"myrtilles\" : 2,\n",
    "    \"framboise\": 4\n",
    "}"
   ]
  },
  {
   "cell_type": "code",
   "execution_count": 8,
   "metadata": {},
   "outputs": [
    {
     "data": {
      "text/plain": [
       "4"
      ]
     },
     "execution_count": 8,
     "metadata": {},
     "output_type": "execute_result"
    }
   ],
   "source": [
    "# requeter des champs et des sous champs avec la syntaxe dict_1[key]\n",
    "agrumes[\"citron\"]\n",
    "fruits[\"agrumes\"][\"citron\"]"
   ]
  },
  {
   "cell_type": "code",
   "execution_count": 9,
   "metadata": {},
   "outputs": [
    {
     "ename": "KeyError",
     "evalue": "'fraises'",
     "output_type": "error",
     "traceback": [
      "\u001b[0;31m---------------------------------------------------------------------------\u001b[0m",
      "\u001b[0;31mKeyError\u001b[0m                                  Traceback (most recent call last)",
      "Cell \u001b[0;32mIn[9], line 1\u001b[0m\n\u001b[0;32m----> 1\u001b[0m \u001b[43magrumes\u001b[49m\u001b[43m[\u001b[49m\u001b[38;5;124;43m\"\u001b[39;49m\u001b[38;5;124;43mfraises\u001b[39;49m\u001b[38;5;124;43m\"\u001b[39;49m\u001b[43m]\u001b[49m\n",
      "\u001b[0;31mKeyError\u001b[0m: 'fraises'"
     ]
    }
   ],
   "source": [
    "# que se passe-t-il si le champ est inexistant avec cette syntaxe ? \n",
    "agrumes[\"fraises\"]"
   ]
  },
  {
   "cell_type": "code",
   "execution_count": 10,
   "metadata": {},
   "outputs": [
    {
     "name": "stdout",
     "output_type": "stream",
     "text": [
      "la clé existe, et la valeur vaut 4\n"
     ]
    }
   ],
   "source": [
    "## Vérifier qu'une clé existe\n",
    "# Vérifier que la clé \"citron\"\n",
    "if agrumes.get(\"citron\") :\n",
    "    print(\"la clé existe, et la valeur vaut\", agrumes.get(\"citron\"))"
   ]
  },
  {
   "cell_type": "code",
   "execution_count": 1,
   "metadata": {},
   "outputs": [
    {
     "data": {
      "text/plain": [
       "{'0': 0,\n",
       " '1': 2,\n",
       " '2': 2,\n",
       " '3': 6,\n",
       " '4': 4,\n",
       " '5': 10,\n",
       " '6': 6,\n",
       " '7': 14,\n",
       " '8': 8,\n",
       " '9': 18}"
      ]
     },
     "execution_count": 1,
     "metadata": {},
     "output_type": "execute_result"
    }
   ],
   "source": [
    "# Plus compliqué : \n",
    "# créer un dict dont les clés sont les entiers de 0 à 10, avec comme valeurs:\n",
    "# - pour les clés paires : la valeur de l’entier\n",
    "# - pour les clés impaires : la valeur de l’entier * 2\n",
    "\n",
    "{str(i):i if i%2 == 0 else 2 *i for i in range(10)}"
   ]
  }
 ],
 "metadata": {
  "kernelspec": {
   "display_name": "python_int_env",
   "language": "python",
   "name": "python3"
  },
  "language_info": {
   "codemirror_mode": {
    "name": "ipython",
    "version": 3
   },
   "file_extension": ".py",
   "mimetype": "text/x-python",
   "name": "python",
   "nbconvert_exporter": "python",
   "pygments_lexer": "ipython3",
   "version": "3.11.6"
  }
 },
 "nbformat": 4,
 "nbformat_minor": 2
}
