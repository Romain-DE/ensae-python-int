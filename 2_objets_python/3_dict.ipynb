{
 "cells": [
  {
   "cell_type": "markdown",
   "metadata": {},
   "source": [
    "Exercices"
   ]
  },
  {
   "cell_type": "code",
   "execution_count": 1,
   "metadata": {},
   "outputs": [],
   "source": [
    "## Créer un dict manuellement\n",
    "# les clés sont les prénoms des élèves de cette formation, et les valeurs sont l'entreprise qui les emploie\n",
    "\n",
    "\n",
    "\n"
   ]
  },
  {
   "cell_type": "code",
   "execution_count": 2,
   "metadata": {},
   "outputs": [],
   "source": [
    "## Créer un dict avec une for comprehension à partir d'une liste\n",
    "# le dictionnaire doit contenir comme clé les éléments de la liste suivante, et comme valeur la longueur de la string associée\n",
    "intro_list = [\"coucou\", \"bonjour\", \"hola\", \"salut\", \"hé\", \"hello\"]\n"
   ]
  },
  {
   "cell_type": "code",
   "execution_count": null,
   "metadata": {},
   "outputs": [],
   "source": [
    "## Modifier un dict à l'aide d'une for comprehension\n",
    "# Modifier le dictionnaire obtenu précédemment pour ne garder que les clé dont la valeur est un nombre pair"
   ]
  },
  {
   "cell_type": "code",
   "execution_count": null,
   "metadata": {},
   "outputs": [],
   "source": [
    "# Parcourir les éléments d'un dict\n",
    "# les clés\n",
    "\n",
    "# les valeurs\n",
    "\n",
    "# les deux items en même temps"
   ]
  },
  {
   "cell_type": "code",
   "execution_count": null,
   "metadata": {},
   "outputs": [],
   "source": [
    "## Accéder à une valeur\n",
    "# récupérer la valeur associée à la clé \"citron\" dans le dictionnaire suivant :\n",
    "agrumes = {\n",
    "    \"citron\": 4,\n",
    "    \"orange\": 5\n",
    "}\n",
    "\n",
    "# récupérer la valeur associée à la clé \"citron\" dans le dictionnaire suivant :\n",
    "fruits = {\n",
    "    \"agrumes\" : {\n",
    "        \"citron\": 4,\n",
    "        \"orange\": 5\n",
    "    },\n",
    "    \"myrtilles\" : 2,\n",
    "    \"framboise\": 4\n",
    "}"
   ]
  },
  {
   "cell_type": "code",
   "execution_count": null,
   "metadata": {},
   "outputs": [],
   "source": [
    "## Vérifier qu'une clé existe\n",
    "# Vérifier que la clé \"citron\""
   ]
  },
  {
   "cell_type": "code",
   "execution_count": null,
   "metadata": {},
   "outputs": [],
   "source": [
    "# Plus compliqué : \n",
    "# créer un dict dont les clés sont les entiers de 0 à 10, avec comme valeurs:\n",
    "# - pour les clés paires : la valeur de l’entier\n",
    "# - pour les clés impaires : la valeur de l’entier * 2\n"
   ]
  },
  {
   "cell_type": "markdown",
   "metadata": {},
   "source": []
  }
 ],
 "metadata": {
  "kernelspec": {
   "display_name": "python_int_env",
   "language": "python",
   "name": "python3"
  },
  "language_info": {
   "codemirror_mode": {
    "name": "ipython",
    "version": 3
   },
   "file_extension": ".py",
   "mimetype": "text/x-python",
   "name": "python",
   "nbconvert_exporter": "python",
   "pygments_lexer": "ipython3",
   "version": "3.11.6"
  }
 },
 "nbformat": 4,
 "nbformat_minor": 2
}
