{
 "cells": [
  {
   "cell_type": "code",
   "execution_count": 1,
   "metadata": {},
   "outputs": [
    {
     "name": "stdout",
     "output_type": "stream",
     "text": [
      "[1, 2, 'coucou', None]\n"
     ]
    }
   ],
   "source": [
    "a = [1, 2, \"coucou\", None]\n",
    "print(a)"
   ]
  },
  {
   "cell_type": "code",
   "execution_count": 2,
   "metadata": {},
   "outputs": [
    {
     "name": "stdout",
     "output_type": "stream",
     "text": [
      "[1, 2, 'coucou', None, 'salut !']\n"
     ]
    }
   ],
   "source": [
    "# ajouter un élément à une liste\n",
    "a.append(\"salut !\")\n",
    "print(a)"
   ]
  },
  {
   "cell_type": "code",
   "execution_count": 3,
   "metadata": {},
   "outputs": [
    {
     "data": {
      "text/plain": [
       "[1, 2, 'salut', 'coucou', None, 'salut !']"
      ]
     },
     "execution_count": 3,
     "metadata": {},
     "output_type": "execute_result"
    }
   ],
   "source": [
    "a[0:2] + [\"salut\"] + a[2:5]"
   ]
  },
  {
   "cell_type": "code",
   "execution_count": 4,
   "metadata": {},
   "outputs": [
    {
     "name": "stdout",
     "output_type": "stream",
     "text": [
      "[1, 2, 'coucou', None, 'salut !', 4, 5, 6]\n"
     ]
    }
   ],
   "source": [
    "# concaténer plusieurs listes\n",
    "b = [4, 5, 6]\n",
    "c = a + b\n",
    "print(c)"
   ]
  },
  {
   "cell_type": "code",
   "execution_count": 5,
   "metadata": {},
   "outputs": [
    {
     "name": "stdout",
     "output_type": "stream",
     "text": [
      "coucou\n"
     ]
    }
   ],
   "source": [
    "# récupérer un élément à un index donné\n",
    "elt_2 = c[2]\n",
    "print(elt_2)"
   ]
  },
  {
   "cell_type": "code",
   "execution_count": 6,
   "metadata": {},
   "outputs": [
    {
     "name": "stdout",
     "output_type": "stream",
     "text": [
      "['Bob', 'Charlie', 'Bob', 'Dave']\n"
     ]
    }
   ],
   "source": [
    "# suppression d'un élément\n",
    "l = ['Alice', 'Bob', 'Charlie', 'Bob', 'Dave']\n",
    "\n",
    "l.remove('Alice')\n",
    "print(l)"
   ]
  },
  {
   "cell_type": "code",
   "execution_count": null,
   "metadata": {},
   "outputs": [],
   "source": []
  },
  {
   "cell_type": "code",
   "execution_count": 7,
   "metadata": {},
   "outputs": [
    {
     "name": "stdout",
     "output_type": "stream",
     "text": [
      "[8, 7, 5, 4, 3]\n"
     ]
    }
   ],
   "source": [
    "# trier une liste d'entiers\n",
    "d = [4, 3, 7, 5, 8]\n",
    "print(sorted(d, reverse=True))"
   ]
  },
  {
   "cell_type": "code",
   "execution_count": null,
   "metadata": {},
   "outputs": [],
   "source": []
  },
  {
   "cell_type": "code",
   "execution_count": 8,
   "metadata": {},
   "outputs": [
    {
     "name": "stdout",
     "output_type": "stream",
     "text": [
      "4\n",
      "3\n",
      "7\n",
      "5\n",
      "8\n"
     ]
    }
   ],
   "source": [
    "# parcourir une liste\n",
    "d = [4, 3, 7, 5, 8]\n",
    "for elt in d:\n",
    "    print(elt)"
   ]
  },
  {
   "cell_type": "code",
   "execution_count": 9,
   "metadata": {},
   "outputs": [
    {
     "name": "stdout",
     "output_type": "stream",
     "text": [
      "4\n",
      "3\n",
      "supérieur à 6\n",
      "5\n",
      "supérieur à 6\n",
      "supérieur à 6\n"
     ]
    }
   ],
   "source": [
    "# parcourir une liste\n",
    "d = [4, 3, 7, 5, 8, 10]\n",
    "for elt in d:\n",
    "    if elt > 6:\n",
    "        print(\"supérieur à 6\")\n",
    "    else :\n",
    "        print(elt)\n"
   ]
  },
  {
   "cell_type": "code",
   "execution_count": 10,
   "metadata": {},
   "outputs": [
    {
     "name": "stdout",
     "output_type": "stream",
     "text": [
      "Mot trop court\n",
      "hello\n",
      "salut\n",
      "bonjour\n",
      "Mot trop long\n"
     ]
    }
   ],
   "source": [
    "# parcourir une liste\n",
    "d = [\"hi\", \"hello\", \"salut\", \"bonjour\", \"salutations\"]\n",
    "for elt in d:\n",
    "    if len(elt) > 7:\n",
    "        print(\"Mot trop long\")\n",
    "    elif len(elt) < 3:\n",
    "        print(\"Mot trop court\")\n",
    "    else :\n",
    "        print(elt)"
   ]
  },
  {
   "cell_type": "code",
   "execution_count": 11,
   "metadata": {},
   "outputs": [],
   "source": [
    "# filtrer et ne récupérer que les éléments pairs\n",
    "d = [4, 3, 7, 5, 8, 10]\n",
    "\n",
    "def est_pair(a):\n",
    "    return a%2==0\n",
    "\n",
    "new_list = []\n",
    "for i in d:\n",
    "    if est_pair(i):\n",
    "        new_list.append(i)\n",
    "\n",
    "\n",
    "for i in d:\n",
    "    if not est_pair(i):\n",
    "        d.remove(i)\n",
    "\n",
    "\n",
    "\n",
    "\n",
    "\n"
   ]
  },
  {
   "cell_type": "code",
   "execution_count": 12,
   "metadata": {},
   "outputs": [],
   "source": [
    "# filtrer et ne récupérer que les éléments pairs\n",
    "# Méthode avancée\n",
    "new_list_2 = [i for i in d if est_pair(i)]"
   ]
  },
  {
   "cell_type": "code",
   "execution_count": 13,
   "metadata": {},
   "outputs": [
    {
     "data": {
      "text/plain": [
       "[9, 15, 17, 21]"
      ]
     },
     "execution_count": 13,
     "metadata": {},
     "output_type": "execute_result"
    }
   ],
   "source": [
    "# Bonus\n",
    "# Effectuer une opération mathématique sur chacun des éléments d'une liste\n",
    "\n",
    "[2*i + 1 for i in d]"
   ]
  },
  {
   "cell_type": "code",
   "execution_count": 14,
   "metadata": {},
   "outputs": [
    {
     "data": {
      "text/plain": [
       "['ALICE', 'CHARLIE', 'DAVE']"
      ]
     },
     "execution_count": 14,
     "metadata": {},
     "output_type": "execute_result"
    }
   ],
   "source": [
    "l = ['Alice', 'Bob', 'Charlie', 'Bob', 'Dave']\n",
    "\n",
    "\n",
    "[x.upper() for x in l if len(x)>3]"
   ]
  },
  {
   "cell_type": "code",
   "execution_count": 15,
   "metadata": {},
   "outputs": [
    {
     "data": {
      "text/plain": [
       "['ALICE', 'Bob', 'CHARLIE', 'Bob', 'DAVE']"
      ]
     },
     "execution_count": 15,
     "metadata": {},
     "output_type": "execute_result"
    }
   ],
   "source": [
    "[x.upper() if len(x)>3 else x for x in l]"
   ]
  },
  {
   "cell_type": "code",
   "execution_count": null,
   "metadata": {},
   "outputs": [],
   "source": []
  }
 ],
 "metadata": {
  "kernelspec": {
   "display_name": "python_int_env",
   "language": "python",
   "name": "python3"
  },
  "language_info": {
   "codemirror_mode": {
    "name": "ipython",
    "version": 3
   },
   "file_extension": ".py",
   "mimetype": "text/x-python",
   "name": "python",
   "nbconvert_exporter": "python",
   "pygments_lexer": "ipython3",
   "version": "3.13.2"
  }
 },
 "nbformat": 4,
 "nbformat_minor": 2
}
