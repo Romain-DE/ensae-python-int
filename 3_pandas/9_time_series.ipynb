{
 "cells": [
  {
   "cell_type": "markdown",
   "metadata": {},
   "source": [
    "Rappels"
   ]
  },
  {
   "cell_type": "markdown",
   "metadata": {},
   "source": [
    "# datetime"
   ]
  },
  {
   "cell_type": "markdown",
   "metadata": {},
   "source": [
    "Voir fichier 2_objets_python/1_datetime.ipynb"
   ]
  },
  {
   "cell_type": "markdown",
   "metadata": {},
   "source": [
    "# TimeSeries"
   ]
  },
  {
   "cell_type": "code",
   "execution_count": 28,
   "metadata": {},
   "outputs": [
    {
     "data": {
      "text/plain": [
       "2011-01-02    0.751759\n",
       "2011-01-05   -1.691639\n",
       "2011-01-07    0.115803\n",
       "2011-01-08   -0.490283\n",
       "2011-01-10   -0.707280\n",
       "2011-01-12    0.963612\n",
       "dtype: float64"
      ]
     },
     "execution_count": 28,
     "metadata": {},
     "output_type": "execute_result"
    }
   ],
   "source": [
    "# Timestamp dans pandas\n",
    "from datetime import datetime\n",
    "from pandas import Series \n",
    "import numpy as np\n",
    "\n",
    "dates = [datetime(2011, 1, 2), datetime(2011, 1, 5), datetime(2011, 1, 7), datetime(2011, 1, 8), datetime(2011, 1, 10), datetime(2011, 1, 12)]\n",
    "ts = Series(np.random.randn(6), index=dates)\n",
    "ts"
   ]
  },
  {
   "cell_type": "code",
   "execution_count": 26,
   "metadata": {},
   "outputs": [
    {
     "data": {
      "text/plain": [
       "DatetimeIndex(['2022-08-24', '2023-11-10'], dtype='datetime64[ns]', freq=None)"
      ]
     },
     "execution_count": 26,
     "metadata": {},
     "output_type": "execute_result"
    }
   ],
   "source": [
    "# Possible de préciser dayfirst pour éviter les ambiguités\n",
    "import pandas as pd \n",
    "date_list = [\"24/08/2022\", \"10/11/2023\"]\n",
    "se = pd.to_datetime(date_list, dayfirst= True)\n",
    "se"
   ]
  },
  {
   "cell_type": "code",
   "execution_count": 30,
   "metadata": {},
   "outputs": [
    {
     "data": {
      "text/plain": [
       "2020-01-06   -1.008881\n",
       "2020-01-07    0.316568\n",
       "2020-01-08    0.676374\n",
       "2020-01-09    1.134310\n",
       "2020-01-10   -0.499260\n",
       "2020-01-11    0.927796\n",
       "2020-01-12    1.357733\n",
       "2020-01-13   -3.142930\n",
       "2020-01-14   -0.654583\n",
       "2020-01-15    0.513509\n",
       "2020-01-16    2.090589\n",
       "2020-01-17   -1.177716\n",
       "2020-01-18    0.329008\n",
       "2020-01-19    0.710218\n",
       "2020-01-20   -1.869949\n",
       "2020-01-21   -0.457262\n",
       "2020-01-22   -0.711577\n",
       "2020-01-23   -1.925244\n",
       "2020-01-24   -1.243856\n",
       "2020-01-25   -0.411910\n",
       "2020-01-26    0.228989\n",
       "2020-01-27   -0.765950\n",
       "2020-01-28    0.431810\n",
       "2020-01-29    0.137111\n",
       "2020-01-30    0.603204\n",
       "2020-01-31   -0.672960\n",
       "2020-02-01    2.095685\n",
       "2020-02-02    0.036085\n",
       "2020-02-03   -1.036154\n",
       "2020-02-04   -1.664335\n",
       "Freq: D, dtype: float64"
      ]
     },
     "execution_count": 30,
     "metadata": {},
     "output_type": "execute_result"
    }
   ],
   "source": [
    "# Générer des dates. Attention au format ! 1er juin VS 6 janvier\n",
    "longer_ts = Series(np.random.randn(10), index=pd.date_range('01/06/2020', periods=30))\n",
    "longer_ts"
   ]
  },
  {
   "cell_type": "code",
   "execution_count": 33,
   "metadata": {},
   "outputs": [
    {
     "data": {
      "text/plain": [
       "Timestamp('2011-03-11 23:00:00-0500', tz='US/Eastern')"
      ]
     },
     "execution_count": 33,
     "metadata": {},
     "output_type": "execute_result"
    }
   ],
   "source": [
    "# avec les timezones\n",
    "stamp = pd.Timestamp('2011-03-12 04:00') \n",
    "# Pour une date donnée, on déclare la timezone à laquelle elle se réfère\n",
    "stamp_utc = stamp.tz_localize('utc')\n",
    "# On peut ensuite convertir la date pour l'afficher dans un autre référentiel\n",
    "stamp_utc.tz_convert('US/Eastern')\n",
    "\n"
   ]
  },
  {
   "cell_type": "code",
   "execution_count": null,
   "metadata": {},
   "outputs": [],
   "source": [
    "# Liste des timezone disponibles\n",
    "import pytz\n",
    "pytz.common_timezones"
   ]
  },
  {
   "cell_type": "markdown",
   "metadata": {},
   "source": [
    "# Exercice"
   ]
  },
  {
   "cell_type": "code",
   "execution_count": null,
   "metadata": {},
   "outputs": [],
   "source": [
    "# Filtrer la liste des tz pour n'avoir que celles de l'Europe"
   ]
  },
  {
   "cell_type": "code",
   "execution_count": 7,
   "metadata": {},
   "outputs": [],
   "source": [
    "# Manipulation des timezones\n",
    "# 1. Définir un timestamp\n",
    "# 2. Lui assigner une timezone (par ex Moscou)\n",
    "# 3. L'exprimer dans une timezone différente (par ex Paris)"
   ]
  },
  {
   "cell_type": "code",
   "execution_count": null,
   "metadata": {},
   "outputs": [],
   "source": [
    "# Bonus\n",
    "# Créer une Time Series avec des nombres aléatoires indexés par le premier jour de chaque mois de 2015"
   ]
  }
 ],
 "metadata": {
  "kernelspec": {
   "display_name": "python_int_env",
   "language": "python",
   "name": "python3"
  },
  "language_info": {
   "codemirror_mode": {
    "name": "ipython",
    "version": 3
   },
   "file_extension": ".py",
   "mimetype": "text/x-python",
   "name": "python",
   "nbconvert_exporter": "python",
   "pygments_lexer": "ipython3",
   "version": "3.11.6"
  }
 },
 "nbformat": 4,
 "nbformat_minor": 2
}
