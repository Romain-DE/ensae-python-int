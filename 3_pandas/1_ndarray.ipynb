{
 "cells": [
  {
   "cell_type": "markdown",
   "metadata": {},
   "source": [
    "# Rappels"
   ]
  },
  {
   "cell_type": "code",
   "execution_count": 2,
   "metadata": {},
   "outputs": [
    {
     "name": "stdout",
     "output_type": "stream",
     "text": [
      "[ 1.   3.5  4.7 -5.1]\n"
     ]
    }
   ],
   "source": [
    "## Créer un ndarray de taille 4\n",
    "import numpy as np \n",
    "\n",
    "data_1 = [1.0, 3.5, 4.7, -5.1]\n",
    "arr_1 = np.array(data_1)\n",
    "print(arr_1)"
   ]
  },
  {
   "cell_type": "code",
   "execution_count": null,
   "metadata": {},
   "outputs": [
    {
     "data": {
      "text/plain": [
       "array([[-10,  -5],\n",
       "       [ -1,   2],\n",
       "       [  6,  11]])"
      ]
     },
     "execution_count": 18,
     "metadata": {},
     "output_type": "execute_result"
    }
   ],
   "source": [
    "## Créer un ndarray de taille 3*2 (3 lignes, 2 colonnes)\n",
    "data = [\n",
    "    [-10, -5],\n",
    "    [-1, 2],\n",
    "    [6, 11]\n",
    "]\n",
    "\n",
    "arr_2 = np.array(data)\n",
    "\n",
    "arr_2"
   ]
  },
  {
   "cell_type": "code",
   "execution_count": null,
   "metadata": {},
   "outputs": [
    {
     "data": {
      "text/plain": [
       "(3, 2)"
      ]
     },
     "execution_count": 19,
     "metadata": {},
     "output_type": "execute_result"
    }
   ],
   "source": [
    "# Format d'un array\n",
    "arr_2.shape"
   ]
  },
  {
   "cell_type": "code",
   "execution_count": null,
   "metadata": {},
   "outputs": [
    {
     "data": {
      "text/plain": [
       "array([[-10,  -5],\n",
       "       [ -1,   2],\n",
       "       [  0,   0]])"
      ]
     },
     "execution_count": 20,
     "metadata": {},
     "output_type": "execute_result"
    }
   ],
   "source": [
    "# Appliquer un masque simple\n",
    "arr_2[arr_2 > 3] = 0\n",
    "arr_2"
   ]
  },
  {
   "cell_type": "code",
   "execution_count": null,
   "metadata": {},
   "outputs": [],
   "source": [
    "# Que se passe-t-il si on additionne un array avec un nombre (int) ? \n",
    "arr_2 + 4"
   ]
  },
  {
   "cell_type": "code",
   "execution_count": null,
   "metadata": {},
   "outputs": [],
   "source": [
    "# créer un nouvel array dont chacun des éléments est multiplié par 3\n",
    "arr_2 * 3"
   ]
  },
  {
   "cell_type": "markdown",
   "metadata": {},
   "source": [
    "# Exercices"
   ]
  },
  {
   "cell_type": "code",
   "execution_count": 21,
   "metadata": {},
   "outputs": [
    {
     "data": {
      "text/plain": [
       "array([[ 0,  0],\n",
       "       [-1,  2],\n",
       "       [ 0,  0]])"
      ]
     },
     "execution_count": 21,
     "metadata": {},
     "output_type": "execute_result"
    }
   ],
   "source": [
    "# Appliquer un masque plus complexe : \n",
    "# A l'aide d'un masque, ré-assigner à 0 les valeurs strictement supérieures a 2 et les valeurs strictement inférieures à -2\n",
    "arr_1[(arr_1 > 2) | (arr_1 < -2)] = 0 \n",
    "arr_1"
   ]
  },
  {
   "cell_type": "code",
   "execution_count": 3,
   "metadata": {},
   "outputs": [
    {
     "name": "stdout",
     "output_type": "stream",
     "text": [
      "[0 1 2 3 4 5 6]\n",
      "[3 4 5 6 7 8 9]\n",
      "[ 0  2  4  6  8 10 12]\n"
     ]
    }
   ],
   "source": [
    "# A l'aide de la fonction arange(), créer un array 1D avec les 7 premiers entiers\n",
    "arr_7_first = np.arange(7)\n",
    "print(arr_7_first)\n",
    "# Idem, mais le faire commencer à 3\n",
    "arr_3_7 = np.arange(3, 10)\n",
    "print(arr_3_7)\n",
    "\n",
    "# Créer un aray avec les 7 premiers nombres pairs\n",
    "arr_7_even = np.arange(0, 14, 2)\n",
    "print(arr_7_even)"
   ]
  },
  {
   "cell_type": "code",
   "execution_count": 4,
   "metadata": {},
   "outputs": [
    {
     "data": {
      "text/plain": [
       "array([3, 4, 5, 6, 7, 8, 9])"
      ]
     },
     "execution_count": 4,
     "metadata": {},
     "output_type": "execute_result"
    }
   ],
   "source": [
    "# Que se passe-t-il si on additionne un array avec un nombre (int) ? \n",
    "arr_7_first + 3"
   ]
  },
  {
   "cell_type": "code",
   "execution_count": 5,
   "metadata": {},
   "outputs": [
    {
     "data": {
      "text/plain": [
       "array([ 0,  5, 10, 15, 20, 25, 30])"
      ]
     },
     "execution_count": 5,
     "metadata": {},
     "output_type": "execute_result"
    }
   ],
   "source": [
    "# Reprendre un des arrays précédents, et l'utiliser pour créer un nouvel array dont chacun des éléments est multiplié par 5\n",
    "arr_7_first * 5"
   ]
  },
  {
   "cell_type": "code",
   "execution_count": null,
   "metadata": {},
   "outputs": [],
   "source": [
    "# A l'aide de la méthode .arange() et de la méthode .reshape(), \n",
    "# créer une matrice de 3 lignes et 6 colonnes remplie des entiers allant de 0 à 17\n",
    "\n",
    "\n",
    "np.arange(18).reshape(3,6)"
   ]
  },
  {
   "cell_type": "code",
   "execution_count": null,
   "metadata": {},
   "outputs": [],
   "source": [
    "# Note : possible aussi d'utiliser linspace()"
   ]
  }
 ],
 "metadata": {
  "kernelspec": {
   "display_name": "python_int_env",
   "language": "python",
   "name": "python3"
  },
  "language_info": {
   "codemirror_mode": {
    "name": "ipython",
    "version": 3
   },
   "file_extension": ".py",
   "mimetype": "text/x-python",
   "name": "python",
   "nbconvert_exporter": "python",
   "pygments_lexer": "ipython3",
   "version": "3.13.2"
  }
 },
 "nbformat": 4,
 "nbformat_minor": 2
}
