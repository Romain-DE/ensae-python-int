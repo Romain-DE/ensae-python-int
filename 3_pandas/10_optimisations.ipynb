{
 "cells": [
  {
   "cell_type": "code",
   "execution_count": 2,
   "metadata": {},
   "outputs": [],
   "source": [
    "import pandas as pd \n",
    "df_titanic = pd.read_csv(\"../data/titanic.csv\").sample(50)"
   ]
  },
  {
   "cell_type": "code",
   "execution_count": null,
   "metadata": {},
   "outputs": [],
   "source": [
    "# Avec du variable assignment\n",
    "\n",
    "def prep_names0(df):\n",
    "    df = df.copy()\n",
    "    df = df.dropna(subset = [\"Sex\", \"Age\"])\n",
    "    df = df.fillna({\"Fare\": 0})\n",
    "    df = df.loc[df[\"Name\"].str.len() > 1]\n",
    "    df[\"Sex\"] = df[\"Sex\"].map({\"male\":\"M\", \"female\":\"F\"})\n",
    "    df[\"Name\"] = df[\"Name\"].str.title()\n",
    "    df = df.astype({'Sex':'category', 'Age':'uint16', \"Fare\": \"uint16\"})\n",
    "    df = df[[\"Name\", \"Survived\", \"Pclass\", \"Sex\", \"Age\", \"Fare\"]]\n",
    "    df = df.sort_values(\"Name\", ascending=True)\n",
    "    df = df.reset_index(drop=True)\n",
    "    return df\n",
    "prep_names0(df_titanic)"
   ]
  },
  {
   "cell_type": "code",
   "execution_count": null,
   "metadata": {},
   "outputs": [],
   "source": [
    "# avec du method chaining\n",
    "def prep_names_mc(df):\n",
    "    return (df.dropna(subset = [\"Sex\", \"Age\"])\n",
    "            .fillna({\"Fare\": 0})\n",
    "            .loc[lambda df: df.Name.str.len() > 1]\n",
    "            .assign(Sex = lambda df: df.Sex.map({\"male\":\"M\", \"female\":\"F\"}),\n",
    "                    Name = lambda df: df.Name.str.title())\n",
    "            .astype({'Sex':'category', 'Age':'uint16', \"Fare\": \"uint16\"})\n",
    "            .loc[:, [\"Name\", \"Survived\", \"Pclass\", \"Sex\", \"Age\", \"Fare\"]]\n",
    "            .sort_values(\"Name\", ascending=True)\n",
    "            .reset_index(drop=True))\n",
    "            \n",
    "\n",
    "prep_names_mc(df_titanic)\n"
   ]
  },
  {
   "cell_type": "markdown",
   "metadata": {},
   "source": [
    "# Exercice"
   ]
  },
  {
   "cell_type": "code",
   "execution_count": 4,
   "metadata": {},
   "outputs": [
    {
     "data": {
      "text/html": [
       "<div>\n",
       "<style scoped>\n",
       "    .dataframe tbody tr th:only-of-type {\n",
       "        vertical-align: middle;\n",
       "    }\n",
       "\n",
       "    .dataframe tbody tr th {\n",
       "        vertical-align: top;\n",
       "    }\n",
       "\n",
       "    .dataframe thead th {\n",
       "        text-align: right;\n",
       "    }\n",
       "</style>\n",
       "<table border=\"1\" class=\"dataframe\">\n",
       "  <thead>\n",
       "    <tr style=\"text-align: right;\">\n",
       "      <th></th>\n",
       "      <th>ville</th>\n",
       "      <th>température moyenne</th>\n",
       "    </tr>\n",
       "  </thead>\n",
       "  <tbody>\n",
       "    <tr>\n",
       "      <th>0</th>\n",
       "      <td>Paris</td>\n",
       "      <td>12</td>\n",
       "    </tr>\n",
       "    <tr>\n",
       "      <th>1</th>\n",
       "      <td>Lyon</td>\n",
       "      <td>16</td>\n",
       "    </tr>\n",
       "    <tr>\n",
       "      <th>2</th>\n",
       "      <td>Marseille</td>\n",
       "      <td>18</td>\n",
       "    </tr>\n",
       "  </tbody>\n",
       "</table>\n",
       "</div>"
      ],
      "text/plain": [
       "       ville  température moyenne\n",
       "0      Paris                   12\n",
       "1       Lyon                   16\n",
       "2  Marseille                   18"
      ]
     },
     "execution_count": 4,
     "metadata": {},
     "output_type": "execute_result"
    }
   ],
   "source": [
    "# Vectorisation\n",
    "# Modifer les noms des villes pour les écrire en majuscule grâce à la méthode .upper()\n",
    "df = pd.DataFrame({\"ville\" : [\"Paris\", \"Lyon\", \"Marseille\"], \"température moyenne\" : [12, 16, 18]})\n",
    "df"
   ]
  },
  {
   "cell_type": "code",
   "execution_count": null,
   "metadata": {},
   "outputs": [],
   "source": []
  }
 ],
 "metadata": {
  "kernelspec": {
   "display_name": "python_int_env",
   "language": "python",
   "name": "python3"
  },
  "language_info": {
   "codemirror_mode": {
    "name": "ipython",
    "version": 3
   },
   "file_extension": ".py",
   "mimetype": "text/x-python",
   "name": "python",
   "nbconvert_exporter": "python",
   "pygments_lexer": "ipython3",
   "version": "3.11.6"
  }
 },
 "nbformat": 4,
 "nbformat_minor": 2
}
